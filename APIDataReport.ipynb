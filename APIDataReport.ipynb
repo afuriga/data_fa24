{
 "cells": [
  {
   "cell_type": "markdown",
   "id": "ab25adf0-3fc9-413b-b495-49dc5d3bdf2e",
   "metadata": {},
   "source": [
    "# API Data Report - Popularity & Key Signatures\n",
    "### Anthony Furiga\n",
    "##### October 11th, 2024"
   ]
  },
  {
   "cell_type": "markdown",
   "id": "c3d5d132-eec7-45bf-8ee6-3bf497f0e8c5",
   "metadata": {},
   "source": [
    "For my API data report, I will be pulling songs from two albums and seeing the comparison the popularity of those tracks (How many plays they have) as it relates to that song's key signature. The two albums I will be using are Taylor Swift's \"Lover\" album, and Nirvana's \"Nevermind\" album.  My hypothesis is that songs in those albums that are in key signatures that less flats/sharps in their key signatures (C,F,G,D major for example) will have more listens than songs that are not.  Key signatures on Spotify are listed as numerical values starting at C with 0, and then counting up until it reaches B flat at 11. To make easier, I think songs that have key signature values of 0,2,5,7 and 10 will be more popular than songs that are not those values if they are major, and 2, 5, 7, 9, 11 if they are minor."
   ]
  },
  {
   "cell_type": "markdown",
   "id": "391a50bc-973a-4206-b563-89118b6c8713",
   "metadata": {},
   "source": [
    "The response objects I will be using are the get track's audio features  "
   ]
  },
  {
   "cell_type": "code",
   "execution_count": 24,
   "id": "9baa7b1d-090e-4718-bf81-20748a222994",
   "metadata": {},
   "outputs": [],
   "source": [
    "import json\n",
    "import pandas as pd\n",
    "import requests\n",
    "import urllib\n",
    "import base64\n",
    "import sqlite3"
   ]
  },
  {
   "cell_type": "code",
   "execution_count": 25,
   "id": "4b176fdf-4933-4780-a746-ee123ef25737",
   "metadata": {},
   "outputs": [],
   "source": [
    "def get_session_token(SessionID, SessionKey):\n",
    "    url = 'https://accounts.spotify.com/api/token'\n",
    "    data = {'grant_type':'client_credentials'}\n",
    "    encoded_key = base64.b64encode(str(SessionID + \":\" + SessionKey).encode(\"ascii\"))\n",
    "    header = {'Authorization': 'Basic {}'.format(encoded_key.decode(\"ascii\"))}\n",
    "    response = requests.post(url, data = data, headers = header)\n",
    "    print(response.status_code)\n",
    "    return response.json()['access_token']"
   ]
  },
  {
   "cell_type": "markdown",
   "id": "9c56384b-c880-4898-93cf-e5dc9f6e3f65",
   "metadata": {},
   "source": [
    "This function will allow me to get my session token from Spotify's API website."
   ]
  },
  {
   "cell_type": "code",
   "execution_count": 26,
   "id": "fc4e3ff2-e991-4ee5-93fb-045177136037",
   "metadata": {},
   "outputs": [
    {
     "name": "stdout",
     "output_type": "stream",
     "text": [
      "200\n"
     ]
    }
   ],
   "source": [
    "keys = pd.read_csv(\"Spotify.txt\")\n",
    "access_token = get_session_token(keys['Client_ID'].iloc[0], keys['Client_Secret'].iloc[0])"
   ]
  },
  {
   "cell_type": "markdown",
   "id": "6feccc07-97bd-4507-8a1c-7e8dd31660ca",
   "metadata": {},
   "source": [
    "The 200 response indicates that my key into Spotify's API website is working."
   ]
  },
  {
   "cell_type": "code",
   "execution_count": 27,
   "id": "60dd3f54-a1b1-4fef-9030-e4e50252848f",
   "metadata": {},
   "outputs": [],
   "source": [
    "t_features_ep = 'https://api.spotify.com/v1/audio-features'\n",
    "tracks_ep = 'https://api.spotify.com/v1/tracks'\n",
    "ab_tracks_ep = 'https://api.spotify.com/v1/albums/{}/tracks'"
   ]
  },
  {
   "cell_type": "code",
   "execution_count": 28,
   "id": "9da0f765-f898-40c5-93d1-b719f004c372",
   "metadata": {},
   "outputs": [],
   "source": [
    "def api_call(endpoint_url, api_header):\n",
    "    response = requests.get(endpoint_url,headers = api_header)\n",
    "    print(response.status_code)\n",
    "    return response.json()"
   ]
  },
  {
   "cell_type": "code",
   "execution_count": 29,
   "id": "e0a71154-a77c-49b1-a23f-b764becc7557",
   "metadata": {},
   "outputs": [],
   "source": [
    "session_header = {'Authorization': 'Bearer {}'.format(access_token)}"
   ]
  },
  {
   "cell_type": "code",
   "execution_count": 30,
   "id": "cca4dad6-d7eb-4594-9999-ee374eeb48ed",
   "metadata": {},
   "outputs": [],
   "source": [
    "ts_album_id = '1NAmidJlEaVgA3MpcPFYGq'\n",
    "nv_album_id = '2guirTSEqLizK7j9i1MTTZ'"
   ]
  },
  {
   "cell_type": "code",
   "execution_count": 31,
   "id": "a7daf022-73dc-473a-84d4-74d2abd8a19b",
   "metadata": {},
   "outputs": [
    {
     "name": "stdout",
     "output_type": "stream",
     "text": [
      "200\n",
      "200\n"
     ]
    }
   ],
   "source": [
    "ts_album_response = api_call(ab_tracks_ep.format(ts_album_id), session_header)\n",
    "nv_album_response = api_call(ab_tracks_ep.format(nv_album_id), session_header)"
   ]
  },
  {
   "cell_type": "markdown",
   "id": "57b50a19-ef55-4634-a5b0-b77c1ab6da7e",
   "metadata": {},
   "source": [
    "The 200 response indicates that I was able to call the two albums from Spotify."
   ]
  },
  {
   "cell_type": "code",
   "execution_count": 32,
   "id": "549e2eea-29a2-4bd0-841b-f040d28d6842",
   "metadata": {},
   "outputs": [],
   "source": [
    "ts_album_df = pd.DataFrame(ts_album_response['items'])\n",
    "nv_album_df = pd.DataFrame(nv_album_response['items'])"
   ]
  },
  {
   "cell_type": "markdown",
   "id": "0e33c21a-ca70-43b1-9c4c-485d3d5d48ad",
   "metadata": {},
   "source": [
    "While not shown, this code creates a pandas data frame of the items object for the Taylor Swift and Nirvana albums."
   ]
  },
  {
   "cell_type": "code",
   "execution_count": 33,
   "id": "282864e7-2b54-46c5-b784-ab1ea5fd9179",
   "metadata": {},
   "outputs": [],
   "source": [
    "ts_track_ids = ','.join(ts_album_df['id'].to_list())\n",
    "nv_track_ids = ','.join(nv_album_df['id'].to_list())"
   ]
  },
  {
   "cell_type": "markdown",
   "id": "abb6f9bf-e1b7-40d9-a507-c68deec7a474",
   "metadata": {},
   "source": [
    "This creates a variable with a list of the TrackIDs of the two ablums"
   ]
  },
  {
   "cell_type": "code",
   "execution_count": 34,
   "id": "0c9d595a-26fd-4292-82c5-168a2d796c74",
   "metadata": {},
   "outputs": [
    {
     "data": {
      "text/plain": [
       "'https://api.spotify.com/v1/audio-features?ids=43rA71bccXFGD4C8GOpIlN,1BxfuPKGuaTgP7aM0Bbdwr,1dGr1c8CrMLDpV6mPbImSI,3RauEVgRgj1IuWdJ9fDs70,3pHkh7d0lzM2AldUtz2x37,2YWtcWi3a83pdEg3Gif4Pd,214nt20w5wOxJnY462klLw,4y5bvROuBDPr5fuwXbIBZR,12M5uqx0ZuwkpLp5rJim1a,2dgFqt3w9xIQRjhPtwNk3D,1LLXZFeAHK9R4xUramtUKw,4AYtqFyFbX0Xkc2wtcygTr,5hQSXkFgbxjZo9uCwd11so,6RRNNciQGZEXnqk8SQ9yv5,1SymEzIT3H8UZfibCs3TYi,2Rk4JlNc2TPmZe2af99d45,1SmiQ65iSAbPto6gPFlBYm,1fzAuUVbzlhZ1lJAx9PtY6'"
      ]
     },
     "execution_count": 34,
     "metadata": {},
     "output_type": "execute_result"
    }
   ],
   "source": [
    "t_features_ep + '?ids={}'.format(ts_track_ids)"
   ]
  },
  {
   "cell_type": "code",
   "execution_count": 35,
   "id": "3974f864-eaf9-4778-9870-a5762812e802",
   "metadata": {},
   "outputs": [
    {
     "name": "stdout",
     "output_type": "stream",
     "text": [
      "200\n",
      "200\n"
     ]
    }
   ],
   "source": [
    "ts_track_features = api_call(t_features_ep + '?ids={}'.format(ts_track_ids), session_header)\n",
    "nv_track_features = api_call(t_features_ep + '?ids={}'.format(nv_track_ids), session_header)"
   ]
  },
  {
   "cell_type": "code",
   "execution_count": 36,
   "id": "2fed3b96-7f43-459f-9be7-20194f0bb730",
   "metadata": {},
   "outputs": [
    {
     "name": "stdout",
     "output_type": "stream",
     "text": [
      "200\n",
      "200\n"
     ]
    }
   ],
   "source": [
    "ts_track_info = api_call(tracks_ep + '?market=US&ids={}'.format(ts_track_ids), session_header)\n",
    "nv_track_info = api_call(tracks_ep + '?market=US&ids={}'.format(nv_track_ids), session_header)"
   ]
  },
  {
   "cell_type": "markdown",
   "id": "75248cbf-1ead-4c02-8627-c956b9185005",
   "metadata": {},
   "source": [
    "These 200 responses mean the code was able to get the information of track_features and track_info from Spotify."
   ]
  },
  {
   "cell_type": "code",
   "execution_count": 37,
   "id": "e0f527e1-56ed-4ad3-a6fc-dc2e7bab58d3",
   "metadata": {},
   "outputs": [],
   "source": [
    "ts_features_df = pd.DataFrame(ts_track_features['audio_features'])\n",
    "nv_features_df = pd.DataFrame(nv_track_features['audio_features'])"
   ]
  },
  {
   "cell_type": "code",
   "execution_count": 38,
   "id": "ba9abf78-8438-4ce5-8bf4-f94fff790aad",
   "metadata": {},
   "outputs": [],
   "source": [
    "ts_tracks_df = pd.DataFrame(ts_track_info['tracks'])\n",
    "nv_tracks_df = pd.DataFrame(nv_track_info['tracks'])"
   ]
  },
  {
   "cell_type": "code",
   "execution_count": 39,
   "id": "bd1306d5-f96c-4561-9069-2b63ebb653e7",
   "metadata": {},
   "outputs": [],
   "source": [
    "ts_merged = pd.merge(ts_features_df, ts_tracks_df, how = 'inner', on = 'id')\n",
    "nv_merged = pd.merge(nv_features_df, nv_tracks_df, how = 'inner', on = 'id')\n",
    "ts_merged['artist'] = \"Taylor Swift\"\n",
    "nv_merged['artist'] = \"Nirvana\""
   ]
  },
  {
   "cell_type": "code",
   "execution_count": 40,
   "id": "dd2fd3cd-a586-466f-ba17-0c92a19ec89a",
   "metadata": {},
   "outputs": [
    {
     "data": {
      "text/html": [
       "<div>\n",
       "<style scoped>\n",
       "    .dataframe tbody tr th:only-of-type {\n",
       "        vertical-align: middle;\n",
       "    }\n",
       "\n",
       "    .dataframe tbody tr th {\n",
       "        vertical-align: top;\n",
       "    }\n",
       "\n",
       "    .dataframe thead th {\n",
       "        text-align: right;\n",
       "    }\n",
       "</style>\n",
       "<table border=\"1\" class=\"dataframe\">\n",
       "  <thead>\n",
       "    <tr style=\"text-align: right;\">\n",
       "      <th></th>\n",
       "      <th>name</th>\n",
       "      <th>artist</th>\n",
       "      <th>key</th>\n",
       "      <th>mode</th>\n",
       "      <th>popularity</th>\n",
       "    </tr>\n",
       "  </thead>\n",
       "  <tbody>\n",
       "    <tr>\n",
       "      <th>0</th>\n",
       "      <td>I Forgot That You Existed</td>\n",
       "      <td>Taylor Swift</td>\n",
       "      <td>5</td>\n",
       "      <td>1</td>\n",
       "      <td>69</td>\n",
       "    </tr>\n",
       "    <tr>\n",
       "      <th>1</th>\n",
       "      <td>Cruel Summer</td>\n",
       "      <td>Taylor Swift</td>\n",
       "      <td>9</td>\n",
       "      <td>1</td>\n",
       "      <td>90</td>\n",
       "    </tr>\n",
       "    <tr>\n",
       "      <th>2</th>\n",
       "      <td>Lover</td>\n",
       "      <td>Taylor Swift</td>\n",
       "      <td>7</td>\n",
       "      <td>1</td>\n",
       "      <td>85</td>\n",
       "    </tr>\n",
       "    <tr>\n",
       "      <th>3</th>\n",
       "      <td>The Man</td>\n",
       "      <td>Taylor Swift</td>\n",
       "      <td>0</td>\n",
       "      <td>1</td>\n",
       "      <td>79</td>\n",
       "    </tr>\n",
       "    <tr>\n",
       "      <th>4</th>\n",
       "      <td>The Archer</td>\n",
       "      <td>Taylor Swift</td>\n",
       "      <td>0</td>\n",
       "      <td>1</td>\n",
       "      <td>74</td>\n",
       "    </tr>\n",
       "    <tr>\n",
       "      <th>5</th>\n",
       "      <td>I Think He Knows</td>\n",
       "      <td>Taylor Swift</td>\n",
       "      <td>0</td>\n",
       "      <td>1</td>\n",
       "      <td>70</td>\n",
       "    </tr>\n",
       "    <tr>\n",
       "      <th>6</th>\n",
       "      <td>Miss Americana &amp; The Heartbreak Prince</td>\n",
       "      <td>Taylor Swift</td>\n",
       "      <td>11</td>\n",
       "      <td>0</td>\n",
       "      <td>75</td>\n",
       "    </tr>\n",
       "    <tr>\n",
       "      <th>7</th>\n",
       "      <td>Paper Rings</td>\n",
       "      <td>Taylor Swift</td>\n",
       "      <td>9</td>\n",
       "      <td>1</td>\n",
       "      <td>76</td>\n",
       "    </tr>\n",
       "    <tr>\n",
       "      <th>8</th>\n",
       "      <td>Cornelia Street</td>\n",
       "      <td>Taylor Swift</td>\n",
       "      <td>0</td>\n",
       "      <td>1</td>\n",
       "      <td>72</td>\n",
       "    </tr>\n",
       "    <tr>\n",
       "      <th>9</th>\n",
       "      <td>Death By A Thousand Cuts</td>\n",
       "      <td>Taylor Swift</td>\n",
       "      <td>4</td>\n",
       "      <td>1</td>\n",
       "      <td>70</td>\n",
       "    </tr>\n",
       "    <tr>\n",
       "      <th>10</th>\n",
       "      <td>London Boy</td>\n",
       "      <td>Taylor Swift</td>\n",
       "      <td>1</td>\n",
       "      <td>1</td>\n",
       "      <td>72</td>\n",
       "    </tr>\n",
       "    <tr>\n",
       "      <th>11</th>\n",
       "      <td>Soon You’ll Get Better (feat. The Chicks)</td>\n",
       "      <td>Taylor Swift</td>\n",
       "      <td>0</td>\n",
       "      <td>1</td>\n",
       "      <td>64</td>\n",
       "    </tr>\n",
       "    <tr>\n",
       "      <th>12</th>\n",
       "      <td>False God</td>\n",
       "      <td>Taylor Swift</td>\n",
       "      <td>11</td>\n",
       "      <td>0</td>\n",
       "      <td>71</td>\n",
       "    </tr>\n",
       "    <tr>\n",
       "      <th>13</th>\n",
       "      <td>You Need To Calm Down</td>\n",
       "      <td>Taylor Swift</td>\n",
       "      <td>2</td>\n",
       "      <td>1</td>\n",
       "      <td>77</td>\n",
       "    </tr>\n",
       "    <tr>\n",
       "      <th>14</th>\n",
       "      <td>Afterglow</td>\n",
       "      <td>Taylor Swift</td>\n",
       "      <td>9</td>\n",
       "      <td>1</td>\n",
       "      <td>73</td>\n",
       "    </tr>\n",
       "    <tr>\n",
       "      <th>15</th>\n",
       "      <td>ME! (feat. Brendon Urie of Panic! At The Disco)</td>\n",
       "      <td>Taylor Swift</td>\n",
       "      <td>0</td>\n",
       "      <td>1</td>\n",
       "      <td>73</td>\n",
       "    </tr>\n",
       "    <tr>\n",
       "      <th>16</th>\n",
       "      <td>It’s Nice To Have A Friend</td>\n",
       "      <td>Taylor Swift</td>\n",
       "      <td>10</td>\n",
       "      <td>1</td>\n",
       "      <td>63</td>\n",
       "    </tr>\n",
       "    <tr>\n",
       "      <th>17</th>\n",
       "      <td>Daylight</td>\n",
       "      <td>Taylor Swift</td>\n",
       "      <td>0</td>\n",
       "      <td>1</td>\n",
       "      <td>77</td>\n",
       "    </tr>\n",
       "    <tr>\n",
       "      <th>0</th>\n",
       "      <td>Smells Like Teen Spirit</td>\n",
       "      <td>Nirvana</td>\n",
       "      <td>1</td>\n",
       "      <td>1</td>\n",
       "      <td>77</td>\n",
       "    </tr>\n",
       "    <tr>\n",
       "      <th>1</th>\n",
       "      <td>In Bloom</td>\n",
       "      <td>Nirvana</td>\n",
       "      <td>10</td>\n",
       "      <td>0</td>\n",
       "      <td>68</td>\n",
       "    </tr>\n",
       "    <tr>\n",
       "      <th>2</th>\n",
       "      <td>Come As You Are</td>\n",
       "      <td>Nirvana</td>\n",
       "      <td>4</td>\n",
       "      <td>0</td>\n",
       "      <td>76</td>\n",
       "    </tr>\n",
       "    <tr>\n",
       "      <th>3</th>\n",
       "      <td>Breed</td>\n",
       "      <td>Nirvana</td>\n",
       "      <td>4</td>\n",
       "      <td>1</td>\n",
       "      <td>65</td>\n",
       "    </tr>\n",
       "    <tr>\n",
       "      <th>4</th>\n",
       "      <td>Lithium</td>\n",
       "      <td>Nirvana</td>\n",
       "      <td>7</td>\n",
       "      <td>1</td>\n",
       "      <td>70</td>\n",
       "    </tr>\n",
       "    <tr>\n",
       "      <th>5</th>\n",
       "      <td>Polly</td>\n",
       "      <td>Nirvana</td>\n",
       "      <td>2</td>\n",
       "      <td>0</td>\n",
       "      <td>55</td>\n",
       "    </tr>\n",
       "    <tr>\n",
       "      <th>6</th>\n",
       "      <td>Territorial Pissings</td>\n",
       "      <td>Nirvana</td>\n",
       "      <td>2</td>\n",
       "      <td>1</td>\n",
       "      <td>55</td>\n",
       "    </tr>\n",
       "    <tr>\n",
       "      <th>7</th>\n",
       "      <td>Drain You</td>\n",
       "      <td>Nirvana</td>\n",
       "      <td>11</td>\n",
       "      <td>0</td>\n",
       "      <td>62</td>\n",
       "    </tr>\n",
       "    <tr>\n",
       "      <th>8</th>\n",
       "      <td>Lounge Act</td>\n",
       "      <td>Nirvana</td>\n",
       "      <td>11</td>\n",
       "      <td>0</td>\n",
       "      <td>56</td>\n",
       "    </tr>\n",
       "    <tr>\n",
       "      <th>9</th>\n",
       "      <td>Stay Away</td>\n",
       "      <td>Nirvana</td>\n",
       "      <td>11</td>\n",
       "      <td>0</td>\n",
       "      <td>53</td>\n",
       "    </tr>\n",
       "    <tr>\n",
       "      <th>10</th>\n",
       "      <td>On A Plain</td>\n",
       "      <td>Nirvana</td>\n",
       "      <td>2</td>\n",
       "      <td>1</td>\n",
       "      <td>53</td>\n",
       "    </tr>\n",
       "    <tr>\n",
       "      <th>11</th>\n",
       "      <td>Something In The Way</td>\n",
       "      <td>Nirvana</td>\n",
       "      <td>8</td>\n",
       "      <td>1</td>\n",
       "      <td>67</td>\n",
       "    </tr>\n",
       "    <tr>\n",
       "      <th>12</th>\n",
       "      <td>Endless, Nameless</td>\n",
       "      <td>Nirvana</td>\n",
       "      <td>7</td>\n",
       "      <td>1</td>\n",
       "      <td>47</td>\n",
       "    </tr>\n",
       "  </tbody>\n",
       "</table>\n",
       "</div>"
      ],
      "text/plain": [
       "                                               name        artist  key  mode  \\\n",
       "0                         I Forgot That You Existed  Taylor Swift    5     1   \n",
       "1                                      Cruel Summer  Taylor Swift    9     1   \n",
       "2                                             Lover  Taylor Swift    7     1   \n",
       "3                                           The Man  Taylor Swift    0     1   \n",
       "4                                        The Archer  Taylor Swift    0     1   \n",
       "5                                  I Think He Knows  Taylor Swift    0     1   \n",
       "6            Miss Americana & The Heartbreak Prince  Taylor Swift   11     0   \n",
       "7                                       Paper Rings  Taylor Swift    9     1   \n",
       "8                                   Cornelia Street  Taylor Swift    0     1   \n",
       "9                          Death By A Thousand Cuts  Taylor Swift    4     1   \n",
       "10                                       London Boy  Taylor Swift    1     1   \n",
       "11        Soon You’ll Get Better (feat. The Chicks)  Taylor Swift    0     1   \n",
       "12                                        False God  Taylor Swift   11     0   \n",
       "13                            You Need To Calm Down  Taylor Swift    2     1   \n",
       "14                                        Afterglow  Taylor Swift    9     1   \n",
       "15  ME! (feat. Brendon Urie of Panic! At The Disco)  Taylor Swift    0     1   \n",
       "16                       It’s Nice To Have A Friend  Taylor Swift   10     1   \n",
       "17                                         Daylight  Taylor Swift    0     1   \n",
       "0                           Smells Like Teen Spirit       Nirvana    1     1   \n",
       "1                                          In Bloom       Nirvana   10     0   \n",
       "2                                   Come As You Are       Nirvana    4     0   \n",
       "3                                             Breed       Nirvana    4     1   \n",
       "4                                           Lithium       Nirvana    7     1   \n",
       "5                                             Polly       Nirvana    2     0   \n",
       "6                              Territorial Pissings       Nirvana    2     1   \n",
       "7                                         Drain You       Nirvana   11     0   \n",
       "8                                        Lounge Act       Nirvana   11     0   \n",
       "9                                         Stay Away       Nirvana   11     0   \n",
       "10                                       On A Plain       Nirvana    2     1   \n",
       "11                             Something In The Way       Nirvana    8     1   \n",
       "12                                Endless, Nameless       Nirvana    7     1   \n",
       "\n",
       "    popularity  \n",
       "0           69  \n",
       "1           90  \n",
       "2           85  \n",
       "3           79  \n",
       "4           74  \n",
       "5           70  \n",
       "6           75  \n",
       "7           76  \n",
       "8           72  \n",
       "9           70  \n",
       "10          72  \n",
       "11          64  \n",
       "12          71  \n",
       "13          77  \n",
       "14          73  \n",
       "15          73  \n",
       "16          63  \n",
       "17          77  \n",
       "0           77  \n",
       "1           68  \n",
       "2           76  \n",
       "3           65  \n",
       "4           70  \n",
       "5           55  \n",
       "6           55  \n",
       "7           62  \n",
       "8           56  \n",
       "9           53  \n",
       "10          53  \n",
       "11          67  \n",
       "12          47  "
      ]
     },
     "execution_count": 40,
     "metadata": {},
     "output_type": "execute_result"
    }
   ],
   "source": [
    "artist_compare = pd.concat([ts_merged, nv_merged], axis = 0)\n",
    "artist_compare[['name', 'artist', 'key', 'mode', 'popularity']]"
   ]
  },
  {
   "cell_type": "markdown",
   "id": "c4094b96-0c43-4ce8-90ee-dbf20fe47834",
   "metadata": {},
   "source": [
    "This data frame lists the track names, artist, key, mode, and popularity of the two albums into a clean data frame."
   ]
  },
  {
   "cell_type": "markdown",
   "id": "4974005b-b62b-4ea7-9711-e4b2aab452ac",
   "metadata": {},
   "source": [
    "## Results\n",
    "\n",
    "Looking at the Data Frame, I would say my hypothesis was partially incorrect.  This is because I would say with the Taylor Swift album, I was correct, but with the Nirvana album, I was inccorect.  The most popular tracks from the Nirvana album did not fit into the key numbers I specified at the beginning, whereas the most popular tracks (aside from the #1 most popular) for the Taylor Swift album fell into these numbers.\n",
    "\n",
    "Some drawbacks to this analysis:  Taylor Swift & Nirvana play two different genres of music.  It would be wise to use artists/albums that are the same genre of music.  Also, I believe the value of the popularity number of the tracks reflects only the popularity of that day and not all time.  If this is the case, then tracking the popularity of these tracks overtime would give a better visualization of how popluar these tracks are."
   ]
  },
  {
   "cell_type": "code",
   "execution_count": null,
   "id": "3f0abb48-8e2a-4c14-94be-3f4b9f7f273b",
   "metadata": {},
   "outputs": [],
   "source": []
  }
 ],
 "metadata": {
  "kernelspec": {
   "display_name": "Python 3 (ipykernel)",
   "language": "python",
   "name": "python3"
  },
  "language_info": {
   "codemirror_mode": {
    "name": "ipython",
    "version": 3
   },
   "file_extension": ".py",
   "mimetype": "text/x-python",
   "name": "python",
   "nbconvert_exporter": "python",
   "pygments_lexer": "ipython3",
   "version": "3.12.4"
  }
 },
 "nbformat": 4,
 "nbformat_minor": 5
}
