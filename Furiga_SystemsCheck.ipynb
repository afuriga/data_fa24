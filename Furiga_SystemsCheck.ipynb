{
 "cells": [
  {
   "cell_type": "markdown",
   "id": "3a20c8f5-cd39-49c9-9472-12ff0350bca6",
   "metadata": {},
   "source": [
    "#Systems Check\n",
    "##Anthony Furiga\n",
    "###8/22/2024\n",
    "\n",
    "In this class, I want to make _informed_ decisons about my student media organization: __Black Squirrel Entertainment__  \n",
    "This will include:  \n",
    "1. Looking at statistics\n",
    "2. Gaining feedback\n",
    "3. Using social media to advertise\n",
    "\n",
    "![BSE Logo](bse-social-profile.png)"
   ]
  },
  {
   "cell_type": "code",
   "execution_count": null,
   "id": "11fb027a-87dc-4e0d-a37e-8667878269b8",
   "metadata": {},
   "outputs": [],
   "source": []
  }
 ],
 "metadata": {
  "kernelspec": {
   "display_name": "Python 3 (ipykernel)",
   "language": "python",
   "name": "python3"
  },
  "language_info": {
   "codemirror_mode": {
    "name": "ipython",
    "version": 3
   },
   "file_extension": ".py",
   "mimetype": "text/x-python",
   "name": "python",
   "nbconvert_exporter": "python",
   "pygments_lexer": "ipython3",
   "version": "3.12.4"
  }
 },
 "nbformat": 4,
 "nbformat_minor": 5
}
