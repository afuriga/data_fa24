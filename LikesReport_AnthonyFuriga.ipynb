{
 "cells": [
  {
   "cell_type": "markdown",
   "id": "67bc85e0-d9cd-4fce-b55c-e91e5be613ff",
   "metadata": {},
   "source": [
    "# Likes Data Report\n",
    "## Anthony Furiga\n",
    "### 9/13/2024\n",
    "\n",
    "The Instagram data I am using is my own personal data.  This data was fetched to view my habits on Instagram to see what I view and like, and I what I don't like.  This data may be reliable for me because it will contain personal information to me, which you could say is the target audience for this assignment.  In turn, this is not reliable to make decisions for a specifc group of people because the sample size of this data is 1; me."
   ]
  },
  {
   "cell_type": "code",
   "execution_count": 4,
   "id": "3c3c570b-de22-4b6a-8196-1dfcb92e3344",
   "metadata": {},
   "outputs": [],
   "source": [
    "import json\n",
    "import pandas as pd "
   ]
  },
  {
   "cell_type": "code",
   "execution_count": 5,
   "id": "84e8ae6c-8e04-44ea-81fe-8d28e561e20e",
   "metadata": {},
   "outputs": [],
   "source": [
    "path = \"/Users/anthonyfuriga/Data Fall 2024/instagram-afuriga-2024-08-26-1lqk8Yb3/your_instagram_activity/likes/liked_posts.json\"\n",
    "with open(path) as j:\n",
    "    mess = json.load(j)"
   ]
  },
  {
   "cell_type": "code",
   "execution_count": 6,
   "id": "9ee4d57d-7138-4054-9d7d-6f6e0c98ee81",
   "metadata": {},
   "outputs": [
    {
     "data": {
      "text/plain": [
       "dict_keys(['likes_media_likes'])"
      ]
     },
     "execution_count": 6,
     "metadata": {},
     "output_type": "execute_result"
    }
   ],
   "source": [
    "mess.keys()"
   ]
  },
  {
   "cell_type": "code",
   "execution_count": 7,
   "id": "9ceb54de-9771-4f63-9ef2-be76f3428203",
   "metadata": {},
   "outputs": [
    {
     "data": {
      "text/html": [
       "<div>\n",
       "<style scoped>\n",
       "    .dataframe tbody tr th:only-of-type {\n",
       "        vertical-align: middle;\n",
       "    }\n",
       "\n",
       "    .dataframe tbody tr th {\n",
       "        vertical-align: top;\n",
       "    }\n",
       "\n",
       "    .dataframe thead th {\n",
       "        text-align: right;\n",
       "    }\n",
       "</style>\n",
       "<table border=\"1\" class=\"dataframe\">\n",
       "  <thead>\n",
       "    <tr style=\"text-align: right;\">\n",
       "      <th></th>\n",
       "      <th>title</th>\n",
       "      <th>string_list_data</th>\n",
       "    </tr>\n",
       "  </thead>\n",
       "  <tbody>\n",
       "    <tr>\n",
       "      <th>0</th>\n",
       "      <td>pixelatedhailey</td>\n",
       "      <td>[{'href': 'https://www.instagram.com/p/C_JiEl5...</td>\n",
       "    </tr>\n",
       "    <tr>\n",
       "      <th>1</th>\n",
       "      <td>blacksquirrelentertainment</td>\n",
       "      <td>[{'href': 'https://www.instagram.com/p/C_JIB18...</td>\n",
       "    </tr>\n",
       "    <tr>\n",
       "      <th>2</th>\n",
       "      <td>avaadams1866</td>\n",
       "      <td>[{'href': 'https://www.instagram.com/p/C_HjxaA...</td>\n",
       "    </tr>\n",
       "    <tr>\n",
       "      <th>3</th>\n",
       "      <td>hailey.reinke</td>\n",
       "      <td>[{'href': 'https://www.instagram.com/p/C_GSCdl...</td>\n",
       "    </tr>\n",
       "    <tr>\n",
       "      <th>4</th>\n",
       "      <td>meganchawansky</td>\n",
       "      <td>[{'href': 'https://www.instagram.com/p/C_EGEgF...</td>\n",
       "    </tr>\n",
       "  </tbody>\n",
       "</table>\n",
       "</div>"
      ],
      "text/plain": [
       "                        title  \\\n",
       "0             pixelatedhailey   \n",
       "1  blacksquirrelentertainment   \n",
       "2                avaadams1866   \n",
       "3               hailey.reinke   \n",
       "4              meganchawansky   \n",
       "\n",
       "                                    string_list_data  \n",
       "0  [{'href': 'https://www.instagram.com/p/C_JiEl5...  \n",
       "1  [{'href': 'https://www.instagram.com/p/C_JIB18...  \n",
       "2  [{'href': 'https://www.instagram.com/p/C_HjxaA...  \n",
       "3  [{'href': 'https://www.instagram.com/p/C_GSCdl...  \n",
       "4  [{'href': 'https://www.instagram.com/p/C_EGEgF...  "
      ]
     },
     "execution_count": 7,
     "metadata": {},
     "output_type": "execute_result"
    }
   ],
   "source": [
    "mess_df = pd.DataFrame(mess['likes_media_likes'])\n",
    "mess_df.head()"
   ]
  },
  {
   "cell_type": "code",
   "execution_count": 8,
   "id": "c9ae1078-4844-4ba7-9ead-ab1434778e4c",
   "metadata": {},
   "outputs": [
    {
     "data": {
      "text/plain": [
       "[{'href': 'https://www.instagram.com/p/C_JiEl5pUdk/',\n",
       "  'value': 'ð\\x9f\\x91\\x8d',\n",
       "  'timestamp': 1724711769}]"
      ]
     },
     "execution_count": 8,
     "metadata": {},
     "output_type": "execute_result"
    }
   ],
   "source": [
    "mess_df['string_list_data'].iloc[0]"
   ]
  },
  {
   "cell_type": "code",
   "execution_count": 9,
   "id": "98997d68-fbcd-4102-bbb5-495043414e54",
   "metadata": {},
   "outputs": [
    {
     "data": {
      "text/plain": [
       "1"
      ]
     },
     "execution_count": 9,
     "metadata": {},
     "output_type": "execute_result"
    }
   ],
   "source": [
    "len(mess_df['string_list_data'].iloc[0])"
   ]
  },
  {
   "cell_type": "code",
   "execution_count": 10,
   "id": "fa6de2eb-a443-4c28-b537-865ad6ff4c78",
   "metadata": {},
   "outputs": [
    {
     "data": {
      "text/plain": [
       "[{'href': 'https://www.instagram.com/p/C_JiEl5pUdk/',\n",
       "  'value': 'ð\\x9f\\x91\\x8d',\n",
       "  'timestamp': 1724711769}]"
      ]
     },
     "execution_count": 10,
     "metadata": {},
     "output_type": "execute_result"
    }
   ],
   "source": [
    "mess_df['string_list_data'].iloc[0]"
   ]
  },
  {
   "cell_type": "code",
   "execution_count": 11,
   "id": "76e69c34-0a3e-4b25-ab64-2d2559fc3179",
   "metadata": {},
   "outputs": [],
   "source": [
    "mess_df['Timestamp'] = [x[0]['timestamp'] for x in mess_df['string_list_data']]"
   ]
  },
  {
   "cell_type": "code",
   "execution_count": 12,
   "id": "6ae70800-cd98-45b7-b2fe-3ab9df0423eb",
   "metadata": {},
   "outputs": [
    {
     "data": {
      "text/html": [
       "<div>\n",
       "<style scoped>\n",
       "    .dataframe tbody tr th:only-of-type {\n",
       "        vertical-align: middle;\n",
       "    }\n",
       "\n",
       "    .dataframe tbody tr th {\n",
       "        vertical-align: top;\n",
       "    }\n",
       "\n",
       "    .dataframe thead th {\n",
       "        text-align: right;\n",
       "    }\n",
       "</style>\n",
       "<table border=\"1\" class=\"dataframe\">\n",
       "  <thead>\n",
       "    <tr style=\"text-align: right;\">\n",
       "      <th></th>\n",
       "      <th>title</th>\n",
       "      <th>string_list_data</th>\n",
       "      <th>Timestamp</th>\n",
       "    </tr>\n",
       "  </thead>\n",
       "  <tbody>\n",
       "    <tr>\n",
       "      <th>0</th>\n",
       "      <td>pixelatedhailey</td>\n",
       "      <td>[{'href': 'https://www.instagram.com/p/C_JiEl5...</td>\n",
       "      <td>1724711769</td>\n",
       "    </tr>\n",
       "    <tr>\n",
       "      <th>1</th>\n",
       "      <td>blacksquirrelentertainment</td>\n",
       "      <td>[{'href': 'https://www.instagram.com/p/C_JIB18...</td>\n",
       "      <td>1724697967</td>\n",
       "    </tr>\n",
       "    <tr>\n",
       "      <th>2</th>\n",
       "      <td>avaadams1866</td>\n",
       "      <td>[{'href': 'https://www.instagram.com/p/C_HjxaA...</td>\n",
       "      <td>1724668672</td>\n",
       "    </tr>\n",
       "    <tr>\n",
       "      <th>3</th>\n",
       "      <td>hailey.reinke</td>\n",
       "      <td>[{'href': 'https://www.instagram.com/p/C_GSCdl...</td>\n",
       "      <td>1724612100</td>\n",
       "    </tr>\n",
       "    <tr>\n",
       "      <th>4</th>\n",
       "      <td>meganchawansky</td>\n",
       "      <td>[{'href': 'https://www.instagram.com/p/C_EGEgF...</td>\n",
       "      <td>1724538076</td>\n",
       "    </tr>\n",
       "  </tbody>\n",
       "</table>\n",
       "</div>"
      ],
      "text/plain": [
       "                        title  \\\n",
       "0             pixelatedhailey   \n",
       "1  blacksquirrelentertainment   \n",
       "2                avaadams1866   \n",
       "3               hailey.reinke   \n",
       "4              meganchawansky   \n",
       "\n",
       "                                    string_list_data   Timestamp  \n",
       "0  [{'href': 'https://www.instagram.com/p/C_JiEl5...  1724711769  \n",
       "1  [{'href': 'https://www.instagram.com/p/C_JIB18...  1724697967  \n",
       "2  [{'href': 'https://www.instagram.com/p/C_HjxaA...  1724668672  \n",
       "3  [{'href': 'https://www.instagram.com/p/C_GSCdl...  1724612100  \n",
       "4  [{'href': 'https://www.instagram.com/p/C_EGEgF...  1724538076  "
      ]
     },
     "execution_count": 12,
     "metadata": {},
     "output_type": "execute_result"
    }
   ],
   "source": [
    "mess_df.head()"
   ]
  },
  {
   "cell_type": "code",
   "execution_count": 13,
   "id": "37ab89c5-65de-470e-8cc3-f2a5485395f3",
   "metadata": {},
   "outputs": [],
   "source": [
    "df2 = pd.DataFrame(x[0] for x in mess_df['string_list_data'])"
   ]
  },
  {
   "cell_type": "code",
   "execution_count": 14,
   "id": "9ea1dac3-5959-4b91-ab88-5068bcb11f98",
   "metadata": {},
   "outputs": [
    {
     "data": {
      "text/html": [
       "<div>\n",
       "<style scoped>\n",
       "    .dataframe tbody tr th:only-of-type {\n",
       "        vertical-align: middle;\n",
       "    }\n",
       "\n",
       "    .dataframe tbody tr th {\n",
       "        vertical-align: top;\n",
       "    }\n",
       "\n",
       "    .dataframe thead th {\n",
       "        text-align: right;\n",
       "    }\n",
       "</style>\n",
       "<table border=\"1\" class=\"dataframe\">\n",
       "  <thead>\n",
       "    <tr style=\"text-align: right;\">\n",
       "      <th></th>\n",
       "      <th>href</th>\n",
       "      <th>value</th>\n",
       "      <th>timestamp</th>\n",
       "    </tr>\n",
       "  </thead>\n",
       "  <tbody>\n",
       "    <tr>\n",
       "      <th>0</th>\n",
       "      <td>https://www.instagram.com/p/C_JiEl5pUdk/</td>\n",
       "      <td>ð</td>\n",
       "      <td>1724711769</td>\n",
       "    </tr>\n",
       "    <tr>\n",
       "      <th>1</th>\n",
       "      <td>https://www.instagram.com/p/C_JIB18J_Mw/</td>\n",
       "      <td>ð</td>\n",
       "      <td>1724697967</td>\n",
       "    </tr>\n",
       "    <tr>\n",
       "      <th>2</th>\n",
       "      <td>https://www.instagram.com/p/C_HjxaAs0wT/</td>\n",
       "      <td>ð</td>\n",
       "      <td>1724668672</td>\n",
       "    </tr>\n",
       "    <tr>\n",
       "      <th>3</th>\n",
       "      <td>https://www.instagram.com/p/C_GSCdlpIiN/</td>\n",
       "      <td>ð</td>\n",
       "      <td>1724612100</td>\n",
       "    </tr>\n",
       "    <tr>\n",
       "      <th>4</th>\n",
       "      <td>https://www.instagram.com/p/C_EGEgFSVdX/</td>\n",
       "      <td>ð</td>\n",
       "      <td>1724538076</td>\n",
       "    </tr>\n",
       "    <tr>\n",
       "      <th>...</th>\n",
       "      <td>...</td>\n",
       "      <td>...</td>\n",
       "      <td>...</td>\n",
       "    </tr>\n",
       "    <tr>\n",
       "      <th>27621</th>\n",
       "      <td>https://www.instagram.com/p/BBiIzseBy1G/</td>\n",
       "      <td>ð</td>\n",
       "      <td>1455069068</td>\n",
       "    </tr>\n",
       "    <tr>\n",
       "      <th>27622</th>\n",
       "      <td>https://www.instagram.com/p/BBTVy9JFyzr/</td>\n",
       "      <td>ð</td>\n",
       "      <td>1454463476</td>\n",
       "    </tr>\n",
       "    <tr>\n",
       "      <th>27623</th>\n",
       "      <td>https://www.instagram.com/p/BAx9d-mly36/</td>\n",
       "      <td>ð</td>\n",
       "      <td>1453339524</td>\n",
       "    </tr>\n",
       "    <tr>\n",
       "      <th>27624</th>\n",
       "      <td>https://www.instagram.com/p/BAXwOtWly68/</td>\n",
       "      <td>ð</td>\n",
       "      <td>1452465623</td>\n",
       "    </tr>\n",
       "    <tr>\n",
       "      <th>27625</th>\n",
       "      <td>https://www.instagram.com/p/-rM8xIhQVV/</td>\n",
       "      <td>ð</td>\n",
       "      <td>1452039934</td>\n",
       "    </tr>\n",
       "  </tbody>\n",
       "</table>\n",
       "<p>27626 rows × 3 columns</p>\n",
       "</div>"
      ],
      "text/plain": [
       "                                           href value   timestamp\n",
       "0      https://www.instagram.com/p/C_JiEl5pUdk/  ð  1724711769\n",
       "1      https://www.instagram.com/p/C_JIB18J_Mw/  ð  1724697967\n",
       "2      https://www.instagram.com/p/C_HjxaAs0wT/  ð  1724668672\n",
       "3      https://www.instagram.com/p/C_GSCdlpIiN/  ð  1724612100\n",
       "4      https://www.instagram.com/p/C_EGEgFSVdX/  ð  1724538076\n",
       "...                                         ...   ...         ...\n",
       "27621  https://www.instagram.com/p/BBiIzseBy1G/  ð  1455069068\n",
       "27622  https://www.instagram.com/p/BBTVy9JFyzr/  ð  1454463476\n",
       "27623  https://www.instagram.com/p/BAx9d-mly36/  ð  1453339524\n",
       "27624  https://www.instagram.com/p/BAXwOtWly68/  ð  1452465623\n",
       "27625   https://www.instagram.com/p/-rM8xIhQVV/  ð  1452039934\n",
       "\n",
       "[27626 rows x 3 columns]"
      ]
     },
     "execution_count": 14,
     "metadata": {},
     "output_type": "execute_result"
    }
   ],
   "source": [
    "df2"
   ]
  },
  {
   "cell_type": "code",
   "execution_count": 15,
   "id": "81ded897-ef8b-432e-8e8d-f4cd2dcb4b8f",
   "metadata": {},
   "outputs": [],
   "source": [
    "df2['title'] = mess_df['title']"
   ]
  },
  {
   "cell_type": "code",
   "execution_count": 16,
   "id": "dbc7139b-2fa2-4b45-ab82-00089608508b",
   "metadata": {},
   "outputs": [
    {
     "data": {
      "text/html": [
       "<div>\n",
       "<style scoped>\n",
       "    .dataframe tbody tr th:only-of-type {\n",
       "        vertical-align: middle;\n",
       "    }\n",
       "\n",
       "    .dataframe tbody tr th {\n",
       "        vertical-align: top;\n",
       "    }\n",
       "\n",
       "    .dataframe thead th {\n",
       "        text-align: right;\n",
       "    }\n",
       "</style>\n",
       "<table border=\"1\" class=\"dataframe\">\n",
       "  <thead>\n",
       "    <tr style=\"text-align: right;\">\n",
       "      <th></th>\n",
       "      <th>href</th>\n",
       "      <th>value</th>\n",
       "      <th>timestamp</th>\n",
       "      <th>title</th>\n",
       "    </tr>\n",
       "  </thead>\n",
       "  <tbody>\n",
       "    <tr>\n",
       "      <th>0</th>\n",
       "      <td>https://www.instagram.com/p/C_JiEl5pUdk/</td>\n",
       "      <td>ð</td>\n",
       "      <td>1724711769</td>\n",
       "      <td>pixelatedhailey</td>\n",
       "    </tr>\n",
       "    <tr>\n",
       "      <th>1</th>\n",
       "      <td>https://www.instagram.com/p/C_JIB18J_Mw/</td>\n",
       "      <td>ð</td>\n",
       "      <td>1724697967</td>\n",
       "      <td>blacksquirrelentertainment</td>\n",
       "    </tr>\n",
       "    <tr>\n",
       "      <th>2</th>\n",
       "      <td>https://www.instagram.com/p/C_HjxaAs0wT/</td>\n",
       "      <td>ð</td>\n",
       "      <td>1724668672</td>\n",
       "      <td>avaadams1866</td>\n",
       "    </tr>\n",
       "    <tr>\n",
       "      <th>3</th>\n",
       "      <td>https://www.instagram.com/p/C_GSCdlpIiN/</td>\n",
       "      <td>ð</td>\n",
       "      <td>1724612100</td>\n",
       "      <td>hailey.reinke</td>\n",
       "    </tr>\n",
       "    <tr>\n",
       "      <th>4</th>\n",
       "      <td>https://www.instagram.com/p/C_EGEgFSVdX/</td>\n",
       "      <td>ð</td>\n",
       "      <td>1724538076</td>\n",
       "      <td>meganchawansky</td>\n",
       "    </tr>\n",
       "    <tr>\n",
       "      <th>...</th>\n",
       "      <td>...</td>\n",
       "      <td>...</td>\n",
       "      <td>...</td>\n",
       "      <td>...</td>\n",
       "    </tr>\n",
       "    <tr>\n",
       "      <th>27621</th>\n",
       "      <td>https://www.instagram.com/p/BBiIzseBy1G/</td>\n",
       "      <td>ð</td>\n",
       "      <td>1455069068</td>\n",
       "      <td>highlightsnetwork</td>\n",
       "    </tr>\n",
       "    <tr>\n",
       "      <th>27622</th>\n",
       "      <td>https://www.instagram.com/p/BBTVy9JFyzr/</td>\n",
       "      <td>ð</td>\n",
       "      <td>1454463476</td>\n",
       "      <td>_carterhudson</td>\n",
       "    </tr>\n",
       "    <tr>\n",
       "      <th>27623</th>\n",
       "      <td>https://www.instagram.com/p/BAx9d-mly36/</td>\n",
       "      <td>ð</td>\n",
       "      <td>1453339524</td>\n",
       "      <td>_carterhudson</td>\n",
       "    </tr>\n",
       "    <tr>\n",
       "      <th>27624</th>\n",
       "      <td>https://www.instagram.com/p/BAXwOtWly68/</td>\n",
       "      <td>ð</td>\n",
       "      <td>1452465623</td>\n",
       "      <td>_carterhudson</td>\n",
       "    </tr>\n",
       "    <tr>\n",
       "      <th>27625</th>\n",
       "      <td>https://www.instagram.com/p/-rM8xIhQVV/</td>\n",
       "      <td>ð</td>\n",
       "      <td>1452039934</td>\n",
       "      <td>instagram</td>\n",
       "    </tr>\n",
       "  </tbody>\n",
       "</table>\n",
       "<p>27626 rows × 4 columns</p>\n",
       "</div>"
      ],
      "text/plain": [
       "                                           href value   timestamp  \\\n",
       "0      https://www.instagram.com/p/C_JiEl5pUdk/  ð  1724711769   \n",
       "1      https://www.instagram.com/p/C_JIB18J_Mw/  ð  1724697967   \n",
       "2      https://www.instagram.com/p/C_HjxaAs0wT/  ð  1724668672   \n",
       "3      https://www.instagram.com/p/C_GSCdlpIiN/  ð  1724612100   \n",
       "4      https://www.instagram.com/p/C_EGEgFSVdX/  ð  1724538076   \n",
       "...                                         ...   ...         ...   \n",
       "27621  https://www.instagram.com/p/BBiIzseBy1G/  ð  1455069068   \n",
       "27622  https://www.instagram.com/p/BBTVy9JFyzr/  ð  1454463476   \n",
       "27623  https://www.instagram.com/p/BAx9d-mly36/  ð  1453339524   \n",
       "27624  https://www.instagram.com/p/BAXwOtWly68/  ð  1452465623   \n",
       "27625   https://www.instagram.com/p/-rM8xIhQVV/  ð  1452039934   \n",
       "\n",
       "                            title  \n",
       "0                 pixelatedhailey  \n",
       "1      blacksquirrelentertainment  \n",
       "2                    avaadams1866  \n",
       "3                   hailey.reinke  \n",
       "4                  meganchawansky  \n",
       "...                           ...  \n",
       "27621           highlightsnetwork  \n",
       "27622               _carterhudson  \n",
       "27623               _carterhudson  \n",
       "27624               _carterhudson  \n",
       "27625                   instagram  \n",
       "\n",
       "[27626 rows x 4 columns]"
      ]
     },
     "execution_count": 16,
     "metadata": {},
     "output_type": "execute_result"
    }
   ],
   "source": [
    "df2"
   ]
  },
  {
   "cell_type": "code",
   "execution_count": 17,
   "id": "5847e6f4-7642-42cc-a86c-3fc8926844f7",
   "metadata": {},
   "outputs": [
    {
     "data": {
      "text/html": [
       "<div>\n",
       "<style scoped>\n",
       "    .dataframe tbody tr th:only-of-type {\n",
       "        vertical-align: middle;\n",
       "    }\n",
       "\n",
       "    .dataframe tbody tr th {\n",
       "        vertical-align: top;\n",
       "    }\n",
       "\n",
       "    .dataframe thead th {\n",
       "        text-align: right;\n",
       "    }\n",
       "</style>\n",
       "<table border=\"1\" class=\"dataframe\">\n",
       "  <thead>\n",
       "    <tr style=\"text-align: right;\">\n",
       "      <th></th>\n",
       "      <th>href</th>\n",
       "      <th>value</th>\n",
       "      <th>timestamp</th>\n",
       "    </tr>\n",
       "    <tr>\n",
       "      <th>title</th>\n",
       "      <th></th>\n",
       "      <th></th>\n",
       "      <th></th>\n",
       "    </tr>\n",
       "  </thead>\n",
       "  <tbody>\n",
       "    <tr>\n",
       "      <th>cats_of_instagram</th>\n",
       "      <td>10266</td>\n",
       "      <td>10266</td>\n",
       "      <td>10266</td>\n",
       "    </tr>\n",
       "    <tr>\n",
       "      <th>instagram</th>\n",
       "      <td>3229</td>\n",
       "      <td>3229</td>\n",
       "      <td>3229</td>\n",
       "    </tr>\n",
       "    <tr>\n",
       "      <th>dogsofinstagram</th>\n",
       "      <td>2556</td>\n",
       "      <td>2556</td>\n",
       "      <td>2556</td>\n",
       "    </tr>\n",
       "    <tr>\n",
       "      <th>randomshowerthoughts</th>\n",
       "      <td>1950</td>\n",
       "      <td>1950</td>\n",
       "      <td>1950</td>\n",
       "    </tr>\n",
       "    <tr>\n",
       "      <th>mobilemag</th>\n",
       "      <td>1641</td>\n",
       "      <td>1641</td>\n",
       "      <td>1641</td>\n",
       "    </tr>\n",
       "    <tr>\n",
       "      <th>igshotz</th>\n",
       "      <td>1351</td>\n",
       "      <td>1351</td>\n",
       "      <td>1351</td>\n",
       "    </tr>\n",
       "    <tr>\n",
       "      <th>folkvibe</th>\n",
       "      <td>556</td>\n",
       "      <td>556</td>\n",
       "      <td>556</td>\n",
       "    </tr>\n",
       "    <tr>\n",
       "      <th>thecoolmagazine</th>\n",
       "      <td>545</td>\n",
       "      <td>545</td>\n",
       "      <td>545</td>\n",
       "    </tr>\n",
       "    <tr>\n",
       "      <th>crypto_connection_world</th>\n",
       "      <td>433</td>\n",
       "      <td>433</td>\n",
       "      <td>433</td>\n",
       "    </tr>\n",
       "    <tr>\n",
       "      <th>americafolk</th>\n",
       "      <td>357</td>\n",
       "      <td>357</td>\n",
       "      <td>357</td>\n",
       "    </tr>\n",
       "  </tbody>\n",
       "</table>\n",
       "</div>"
      ],
      "text/plain": [
       "                          href  value  timestamp\n",
       "title                                           \n",
       "cats_of_instagram        10266  10266      10266\n",
       "instagram                 3229   3229       3229\n",
       "dogsofinstagram           2556   2556       2556\n",
       "randomshowerthoughts      1950   1950       1950\n",
       "mobilemag                 1641   1641       1641\n",
       "igshotz                   1351   1351       1351\n",
       "folkvibe                   556    556        556\n",
       "thecoolmagazine            545    545        545\n",
       "crypto_connection_world    433    433        433\n",
       "americafolk                357    357        357"
      ]
     },
     "execution_count": 17,
     "metadata": {},
     "output_type": "execute_result"
    }
   ],
   "source": [
    "df2.groupby('title').count().sort_values('timestamp', ascending = False).head(10)"
   ]
  },
  {
   "cell_type": "markdown",
   "id": "c4232f85-bbf7-4721-bbf7-cbb33f746288",
   "metadata": {},
   "source": [
    "## Hypothesis\n",
    "\n",
    "Based on my top 10 liked accounts, I must really enjoy looking at cat content.  I will test this hypothesis by viewing my saved_posts.json file to see what posts I have saved and compare the content of them to my top 10 list.  This will be based on the content of the saved posts, as well as how many times I've saved a post from that account."
   ]
  },
  {
   "cell_type": "code",
   "execution_count": 18,
   "id": "fb6adf20-6324-42ea-86a6-8f6a03a12c6d",
   "metadata": {},
   "outputs": [],
   "source": [
    "second_path = '/users/anthonyfuriga/Data Fall 2024/instagram-afuriga-2024-08-26-1lqk8Yb3/your_instagram_activity/saved/saved_posts.json'\n",
    "with open(second_path) as k:\n",
    "    saved = json.load(k)"
   ]
  },
  {
   "cell_type": "code",
   "execution_count": 19,
   "id": "2ee43a18-7803-4a8b-87b6-dc9aa20ba970",
   "metadata": {},
   "outputs": [
    {
     "data": {
      "text/plain": [
       "dict_keys(['saved_saved_media'])"
      ]
     },
     "execution_count": 19,
     "metadata": {},
     "output_type": "execute_result"
    }
   ],
   "source": [
    "saved.keys()"
   ]
  },
  {
   "cell_type": "code",
   "execution_count": 41,
   "id": "4c04847e-1d1b-4a7d-a233-ad4bd7e9b845",
   "metadata": {},
   "outputs": [
    {
     "data": {
      "text/html": [
       "<div>\n",
       "<style scoped>\n",
       "    .dataframe tbody tr th:only-of-type {\n",
       "        vertical-align: middle;\n",
       "    }\n",
       "\n",
       "    .dataframe tbody tr th {\n",
       "        vertical-align: top;\n",
       "    }\n",
       "\n",
       "    .dataframe thead th {\n",
       "        text-align: right;\n",
       "    }\n",
       "</style>\n",
       "<table border=\"1\" class=\"dataframe\">\n",
       "  <thead>\n",
       "    <tr style=\"text-align: right;\">\n",
       "      <th></th>\n",
       "      <th>title</th>\n",
       "      <th>string_map_data</th>\n",
       "    </tr>\n",
       "  </thead>\n",
       "  <tbody>\n",
       "    <tr>\n",
       "      <th>0</th>\n",
       "      <td>udibarkan</td>\n",
       "      <td>{'Saved on': {'href': 'https://www.instagram.c...</td>\n",
       "    </tr>\n",
       "    <tr>\n",
       "      <th>1</th>\n",
       "      <td>dainty.bagels</td>\n",
       "      <td>{'Saved on': {'href': 'https://www.instagram.c...</td>\n",
       "    </tr>\n",
       "    <tr>\n",
       "      <th>2</th>\n",
       "      <td>cattoosgram</td>\n",
       "      <td>{'Saved on': {'href': 'https://www.instagram.c...</td>\n",
       "    </tr>\n",
       "    <tr>\n",
       "      <th>3</th>\n",
       "      <td>thegoodbite</td>\n",
       "      <td>{'Saved on': {'href': 'https://www.instagram.c...</td>\n",
       "    </tr>\n",
       "    <tr>\n",
       "      <th>4</th>\n",
       "      <td>zack.chug</td>\n",
       "      <td>{'Saved on': {'href': 'https://www.instagram.c...</td>\n",
       "    </tr>\n",
       "    <tr>\n",
       "      <th>5</th>\n",
       "      <td>betterringfring</td>\n",
       "      <td>{'Saved on': {'href': 'https://www.instagram.c...</td>\n",
       "    </tr>\n",
       "    <tr>\n",
       "      <th>6</th>\n",
       "      <td>chessnations</td>\n",
       "      <td>{'Saved on': {'href': 'https://www.instagram.c...</td>\n",
       "    </tr>\n",
       "    <tr>\n",
       "      <th>7</th>\n",
       "      <td>thecavaliers</td>\n",
       "      <td>{'Saved on': {'href': 'https://www.instagram.c...</td>\n",
       "    </tr>\n",
       "    <tr>\n",
       "      <th>8</th>\n",
       "      <td>musicmemeo</td>\n",
       "      <td>{'Saved on': {'href': 'https://www.instagram.c...</td>\n",
       "    </tr>\n",
       "    <tr>\n",
       "      <th>9</th>\n",
       "      <td>selbxn</td>\n",
       "      <td>{'Saved on': {'href': 'https://www.instagram.c...</td>\n",
       "    </tr>\n",
       "  </tbody>\n",
       "</table>\n",
       "</div>"
      ],
      "text/plain": [
       "             title                                    string_map_data\n",
       "0        udibarkan  {'Saved on': {'href': 'https://www.instagram.c...\n",
       "1    dainty.bagels  {'Saved on': {'href': 'https://www.instagram.c...\n",
       "2      cattoosgram  {'Saved on': {'href': 'https://www.instagram.c...\n",
       "3      thegoodbite  {'Saved on': {'href': 'https://www.instagram.c...\n",
       "4        zack.chug  {'Saved on': {'href': 'https://www.instagram.c...\n",
       "5  betterringfring  {'Saved on': {'href': 'https://www.instagram.c...\n",
       "6     chessnations  {'Saved on': {'href': 'https://www.instagram.c...\n",
       "7     thecavaliers  {'Saved on': {'href': 'https://www.instagram.c...\n",
       "8       musicmemeo  {'Saved on': {'href': 'https://www.instagram.c...\n",
       "9           selbxn  {'Saved on': {'href': 'https://www.instagram.c..."
      ]
     },
     "execution_count": 41,
     "metadata": {},
     "output_type": "execute_result"
    }
   ],
   "source": [
    "saved_df = pd.DataFrame(saved['saved_saved_media'])\n",
    "saved_df.head(10)"
   ]
  },
  {
   "cell_type": "code",
   "execution_count": 36,
   "id": "6f5c1b0f-a4d8-4215-b45f-f4d466413973",
   "metadata": {},
   "outputs": [
    {
     "data": {
      "text/plain": [
       "{'Saved on': {'href': 'https://www.instagram.com/reel/C4dhEBMIVgy/',\n",
       "  'timestamp': 1712870688}}"
      ]
     },
     "execution_count": 36,
     "metadata": {},
     "output_type": "execute_result"
    }
   ],
   "source": [
    "saved_df['string_map_data'].iloc[0]"
   ]
  },
  {
   "cell_type": "code",
   "execution_count": 38,
   "id": "0e16b83b-fa0f-4c25-b68a-febdf3e9c7ca",
   "metadata": {},
   "outputs": [
    {
     "ename": "KeyError",
     "evalue": "0",
     "output_type": "error",
     "traceback": [
      "\u001b[0;31m---------------------------------------------------------------------------\u001b[0m",
      "\u001b[0;31mKeyError\u001b[0m                                  Traceback (most recent call last)",
      "Cell \u001b[0;32mIn[38], line 1\u001b[0m\n\u001b[0;32m----> 1\u001b[0m saved_df[\u001b[38;5;124m'\u001b[39m\u001b[38;5;124mTimestamp\u001b[39m\u001b[38;5;124m'\u001b[39m] \u001b[38;5;241m=\u001b[39m [\u001b[43mx\u001b[49m\u001b[43m[\u001b[49m\u001b[38;5;241;43m0\u001b[39;49m\u001b[43m]\u001b[49m[\u001b[38;5;124m'\u001b[39m\u001b[38;5;124mtimestamp\u001b[39m\u001b[38;5;124m'\u001b[39m]\u001b[38;5;28;01mfor\u001b[39;00m x \u001b[38;5;129;01min\u001b[39;00m saved_df[\u001b[38;5;124m'\u001b[39m\u001b[38;5;124mstring_map_data\u001b[39m\u001b[38;5;124m'\u001b[39m]]\n",
      "\u001b[0;31mKeyError\u001b[0m: 0"
     ]
    }
   ],
   "source": [
    "saved_df['Timestamp'] = [x[0]['timestamp']for x in saved_df['string_map_data']]"
   ]
  },
  {
   "cell_type": "code",
   "execution_count": 39,
   "id": "9f09c8da-ee93-4f57-b8b5-48f07d72caa7",
   "metadata": {},
   "outputs": [
    {
     "data": {
      "text/html": [
       "<div>\n",
       "<style scoped>\n",
       "    .dataframe tbody tr th:only-of-type {\n",
       "        vertical-align: middle;\n",
       "    }\n",
       "\n",
       "    .dataframe tbody tr th {\n",
       "        vertical-align: top;\n",
       "    }\n",
       "\n",
       "    .dataframe thead th {\n",
       "        text-align: right;\n",
       "    }\n",
       "</style>\n",
       "<table border=\"1\" class=\"dataframe\">\n",
       "  <thead>\n",
       "    <tr style=\"text-align: right;\">\n",
       "      <th></th>\n",
       "      <th>title</th>\n",
       "      <th>string_map_data</th>\n",
       "      <th>Timestamp</th>\n",
       "    </tr>\n",
       "  </thead>\n",
       "  <tbody>\n",
       "    <tr>\n",
       "      <th>0</th>\n",
       "      <td>udibarkan</td>\n",
       "      <td>{'Saved on': {'href': 'https://www.instagram.c...</td>\n",
       "      <td>{'Saved on': {'href': 'https://www.instagram.c...</td>\n",
       "    </tr>\n",
       "    <tr>\n",
       "      <th>1</th>\n",
       "      <td>dainty.bagels</td>\n",
       "      <td>{'Saved on': {'href': 'https://www.instagram.c...</td>\n",
       "      <td>{'Saved on': {'href': 'https://www.instagram.c...</td>\n",
       "    </tr>\n",
       "    <tr>\n",
       "      <th>2</th>\n",
       "      <td>cattoosgram</td>\n",
       "      <td>{'Saved on': {'href': 'https://www.instagram.c...</td>\n",
       "      <td>{'Saved on': {'href': 'https://www.instagram.c...</td>\n",
       "    </tr>\n",
       "    <tr>\n",
       "      <th>3</th>\n",
       "      <td>thegoodbite</td>\n",
       "      <td>{'Saved on': {'href': 'https://www.instagram.c...</td>\n",
       "      <td>{'Saved on': {'href': 'https://www.instagram.c...</td>\n",
       "    </tr>\n",
       "    <tr>\n",
       "      <th>4</th>\n",
       "      <td>zack.chug</td>\n",
       "      <td>{'Saved on': {'href': 'https://www.instagram.c...</td>\n",
       "      <td>{'Saved on': {'href': 'https://www.instagram.c...</td>\n",
       "    </tr>\n",
       "  </tbody>\n",
       "</table>\n",
       "</div>"
      ],
      "text/plain": [
       "           title                                    string_map_data  \\\n",
       "0      udibarkan  {'Saved on': {'href': 'https://www.instagram.c...   \n",
       "1  dainty.bagels  {'Saved on': {'href': 'https://www.instagram.c...   \n",
       "2    cattoosgram  {'Saved on': {'href': 'https://www.instagram.c...   \n",
       "3    thegoodbite  {'Saved on': {'href': 'https://www.instagram.c...   \n",
       "4      zack.chug  {'Saved on': {'href': 'https://www.instagram.c...   \n",
       "\n",
       "                                           Timestamp  \n",
       "0  {'Saved on': {'href': 'https://www.instagram.c...  \n",
       "1  {'Saved on': {'href': 'https://www.instagram.c...  \n",
       "2  {'Saved on': {'href': 'https://www.instagram.c...  \n",
       "3  {'Saved on': {'href': 'https://www.instagram.c...  \n",
       "4  {'Saved on': {'href': 'https://www.instagram.c...  "
      ]
     },
     "execution_count": 39,
     "metadata": {},
     "output_type": "execute_result"
    }
   ],
   "source": [
    "saved_df.head()"
   ]
  },
  {
   "cell_type": "markdown",
   "id": "1a60397e-6e7a-4fd0-81fc-2665176549ff",
   "metadata": {},
   "source": [
    "At this point, I am getting a KeyError, which I do not fully understand, and am not sure why I am getting this error as this line of code is identical to what I had earlier with mess_df.  I tried changing the value of zero and geting rid of the [0] entirely but nothing was working."
   ]
  },
  {
   "cell_type": "code",
   "execution_count": 42,
   "id": "0fb6b512-1e0f-4192-be62-7229a3ee344b",
   "metadata": {},
   "outputs": [
    {
     "ename": "KeyError",
     "evalue": "'timestamp'",
     "output_type": "error",
     "traceback": [
      "\u001b[0;31m---------------------------------------------------------------------------\u001b[0m",
      "\u001b[0;31mKeyError\u001b[0m                                  Traceback (most recent call last)",
      "\u001b[0;32m/var/folders/z2/16_h1qv564g2d9928jk_jkvc0000gn/T/ipykernel_11809/2054943855.py\u001b[0m in \u001b[0;36m?\u001b[0;34m()\u001b[0m\n\u001b[0;32m----> 1\u001b[0;31m \u001b[0msaved_df\u001b[0m\u001b[0;34m.\u001b[0m\u001b[0mgroupby\u001b[0m\u001b[0;34m(\u001b[0m\u001b[0;34m'title'\u001b[0m\u001b[0;34m)\u001b[0m\u001b[0;34m.\u001b[0m\u001b[0mcount\u001b[0m\u001b[0;34m(\u001b[0m\u001b[0;34m)\u001b[0m\u001b[0;34m.\u001b[0m\u001b[0msort_values\u001b[0m\u001b[0;34m(\u001b[0m\u001b[0;34m'timestamp'\u001b[0m\u001b[0;34m,\u001b[0m \u001b[0mascending\u001b[0m \u001b[0;34m=\u001b[0m \u001b[0;32mFalse\u001b[0m\u001b[0;34m)\u001b[0m\u001b[0;34m.\u001b[0m\u001b[0mhead\u001b[0m\u001b[0;34m(\u001b[0m\u001b[0;36m10\u001b[0m\u001b[0;34m)\u001b[0m\u001b[0;34m\u001b[0m\u001b[0;34m\u001b[0m\u001b[0m\n\u001b[0m",
      "\u001b[0;32m~/anaconda3/envs/data_fa24/lib/python3.12/site-packages/pandas/core/frame.py\u001b[0m in \u001b[0;36m?\u001b[0;34m(self, by, axis, ascending, inplace, kind, na_position, ignore_index, key)\u001b[0m\n\u001b[1;32m   7185\u001b[0m             \u001b[0;34m)\u001b[0m\u001b[0;34m\u001b[0m\u001b[0;34m\u001b[0m\u001b[0m\n\u001b[1;32m   7186\u001b[0m         \u001b[0;32melif\u001b[0m \u001b[0mlen\u001b[0m\u001b[0;34m(\u001b[0m\u001b[0mby\u001b[0m\u001b[0;34m)\u001b[0m\u001b[0;34m:\u001b[0m\u001b[0;34m\u001b[0m\u001b[0;34m\u001b[0m\u001b[0m\n\u001b[1;32m   7187\u001b[0m             \u001b[0;31m# len(by) == 1\u001b[0m\u001b[0;34m\u001b[0m\u001b[0;34m\u001b[0m\u001b[0m\n\u001b[1;32m   7188\u001b[0m \u001b[0;34m\u001b[0m\u001b[0m\n\u001b[0;32m-> 7189\u001b[0;31m             \u001b[0mk\u001b[0m \u001b[0;34m=\u001b[0m \u001b[0mself\u001b[0m\u001b[0;34m.\u001b[0m\u001b[0m_get_label_or_level_values\u001b[0m\u001b[0;34m(\u001b[0m\u001b[0mby\u001b[0m\u001b[0;34m[\u001b[0m\u001b[0;36m0\u001b[0m\u001b[0;34m]\u001b[0m\u001b[0;34m,\u001b[0m \u001b[0maxis\u001b[0m\u001b[0;34m=\u001b[0m\u001b[0maxis\u001b[0m\u001b[0;34m)\u001b[0m\u001b[0;34m\u001b[0m\u001b[0;34m\u001b[0m\u001b[0m\n\u001b[0m\u001b[1;32m   7190\u001b[0m \u001b[0;34m\u001b[0m\u001b[0m\n\u001b[1;32m   7191\u001b[0m             \u001b[0;31m# need to rewrap column in Series to apply key function\u001b[0m\u001b[0;34m\u001b[0m\u001b[0;34m\u001b[0m\u001b[0m\n\u001b[1;32m   7192\u001b[0m             \u001b[0;32mif\u001b[0m \u001b[0mkey\u001b[0m \u001b[0;32mis\u001b[0m \u001b[0;32mnot\u001b[0m \u001b[0;32mNone\u001b[0m\u001b[0;34m:\u001b[0m\u001b[0;34m\u001b[0m\u001b[0;34m\u001b[0m\u001b[0m\n",
      "\u001b[0;32m~/anaconda3/envs/data_fa24/lib/python3.12/site-packages/pandas/core/generic.py\u001b[0m in \u001b[0;36m?\u001b[0;34m(self, key, axis)\u001b[0m\n\u001b[1;32m   1907\u001b[0m             \u001b[0mvalues\u001b[0m \u001b[0;34m=\u001b[0m \u001b[0mself\u001b[0m\u001b[0;34m.\u001b[0m\u001b[0mxs\u001b[0m\u001b[0;34m(\u001b[0m\u001b[0mkey\u001b[0m\u001b[0;34m,\u001b[0m \u001b[0maxis\u001b[0m\u001b[0;34m=\u001b[0m\u001b[0mother_axes\u001b[0m\u001b[0;34m[\u001b[0m\u001b[0;36m0\u001b[0m\u001b[0;34m]\u001b[0m\u001b[0;34m)\u001b[0m\u001b[0;34m.\u001b[0m\u001b[0m_values\u001b[0m\u001b[0;34m\u001b[0m\u001b[0;34m\u001b[0m\u001b[0m\n\u001b[1;32m   1908\u001b[0m         \u001b[0;32melif\u001b[0m \u001b[0mself\u001b[0m\u001b[0;34m.\u001b[0m\u001b[0m_is_level_reference\u001b[0m\u001b[0;34m(\u001b[0m\u001b[0mkey\u001b[0m\u001b[0;34m,\u001b[0m \u001b[0maxis\u001b[0m\u001b[0;34m=\u001b[0m\u001b[0maxis\u001b[0m\u001b[0;34m)\u001b[0m\u001b[0;34m:\u001b[0m\u001b[0;34m\u001b[0m\u001b[0;34m\u001b[0m\u001b[0m\n\u001b[1;32m   1909\u001b[0m             \u001b[0mvalues\u001b[0m \u001b[0;34m=\u001b[0m \u001b[0mself\u001b[0m\u001b[0;34m.\u001b[0m\u001b[0maxes\u001b[0m\u001b[0;34m[\u001b[0m\u001b[0maxis\u001b[0m\u001b[0;34m]\u001b[0m\u001b[0;34m.\u001b[0m\u001b[0mget_level_values\u001b[0m\u001b[0;34m(\u001b[0m\u001b[0mkey\u001b[0m\u001b[0;34m)\u001b[0m\u001b[0;34m.\u001b[0m\u001b[0m_values\u001b[0m\u001b[0;34m\u001b[0m\u001b[0;34m\u001b[0m\u001b[0m\n\u001b[1;32m   1910\u001b[0m         \u001b[0;32melse\u001b[0m\u001b[0;34m:\u001b[0m\u001b[0;34m\u001b[0m\u001b[0;34m\u001b[0m\u001b[0m\n\u001b[0;32m-> 1911\u001b[0;31m             \u001b[0;32mraise\u001b[0m \u001b[0mKeyError\u001b[0m\u001b[0;34m(\u001b[0m\u001b[0mkey\u001b[0m\u001b[0;34m)\u001b[0m\u001b[0;34m\u001b[0m\u001b[0;34m\u001b[0m\u001b[0m\n\u001b[0m\u001b[1;32m   1912\u001b[0m \u001b[0;34m\u001b[0m\u001b[0m\n\u001b[1;32m   1913\u001b[0m         \u001b[0;31m# Check for duplicates\u001b[0m\u001b[0;34m\u001b[0m\u001b[0;34m\u001b[0m\u001b[0m\n\u001b[1;32m   1914\u001b[0m         \u001b[0;32mif\u001b[0m \u001b[0mvalues\u001b[0m\u001b[0;34m.\u001b[0m\u001b[0mndim\u001b[0m \u001b[0;34m>\u001b[0m \u001b[0;36m1\u001b[0m\u001b[0;34m:\u001b[0m\u001b[0;34m\u001b[0m\u001b[0;34m\u001b[0m\u001b[0m\n",
      "\u001b[0;31mKeyError\u001b[0m: 'timestamp'"
     ]
    }
   ],
   "source": [
    "saved_df.groupby('title').count().sort_values('timestamp', ascending = False).head(10)"
   ]
  },
  {
   "cell_type": "markdown",
   "id": "bd6cf253-3f3f-4962-b6ff-98a491b2b665",
   "metadata": {},
   "source": [
    "The following line of code above would be what I would use to sort my saved posts on Instagram and show the top 10 accounts with it as well."
   ]
  },
  {
   "cell_type": "markdown",
   "id": "11790607-a10a-491f-a785-56a4de79cae2",
   "metadata": {},
   "source": [
    "## Conclusion\n",
    "\n",
    "Based on the untidy data that I was able to gather, which I went back and made it so that I can see my 10 (which I only have ever saved 9 posts), I can say my hypothesis was incorrect.  I did have one saved post from a cat account, however the other 8 are from non-related cat accounts.  I do think however, my data for comparing my likes was probably not the most sufficent data, since again, I've only ever saved 9 posts, which is a small number compared to how many likes I've ever given on Instagram."
   ]
  },
  {
   "cell_type": "code",
   "execution_count": null,
   "id": "72a2f61c-f687-4ed4-871a-b385ca0a2113",
   "metadata": {},
   "outputs": [],
   "source": []
  }
 ],
 "metadata": {
  "kernelspec": {
   "display_name": "Python 3 (ipykernel)",
   "language": "python",
   "name": "python3"
  },
  "language_info": {
   "codemirror_mode": {
    "name": "ipython",
    "version": 3
   },
   "file_extension": ".py",
   "mimetype": "text/x-python",
   "name": "python",
   "nbconvert_exporter": "python",
   "pygments_lexer": "ipython3",
   "version": "3.12.4"
  }
 },
 "nbformat": 4,
 "nbformat_minor": 5
}
